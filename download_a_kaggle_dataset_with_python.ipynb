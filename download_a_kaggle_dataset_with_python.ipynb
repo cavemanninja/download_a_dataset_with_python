{
  "nbformat": 4,
  "nbformat_minor": 0,
  "metadata": {
    "colab": {
      "name": "download_a_kaggle_dataset_with_python.ipynb",
      "provenance": []
    },
    "kernelspec": {
      "name": "python3",
      "display_name": "Python 3"
    }
  },
  "cells": [
    {
      "cell_type": "markdown",
      "metadata": {
        "id": "LKfi_nl-3nYF",
        "colab_type": "text"
      },
      "source": [
        "Let's first import the libraries needed."
      ]
    },
    {
      "cell_type": "code",
      "metadata": {
        "id": "prCPFCj93WNj",
        "colab_type": "code",
        "colab": {}
      },
      "source": [
        "from kaggle.api.kaggle_api_extended import KaggleApi"
      ],
      "execution_count": 0,
      "outputs": []
    },
    {
      "cell_type": "markdown",
      "metadata": {
        "id": "_kfGlhN637gx",
        "colab_type": "text"
      },
      "source": [
        "In order the get the data we will une the kaggle library. You can install it with: \n",
        "\n",
        "\n",
        "> *pip install kaggle*\n",
        "\n",
        "Once this is done, we need to make sure we have the folder **.kaggle** in our User's Systems Files. Just go and look for it.\n",
        "\n",
        "When we have it located, we head to our kaggle profile. Then we just do EDIT PROFILE and look for the API part. We will see a button that says *Create New API Token*. This will download a json file with our token. Once downloaded, move it the folder **.kaggle** we looked for in the step before.\n",
        "\n",
        "Then we can proceed with our code and call to the API to authenticate."
      ]
    },
    {
      "cell_type": "code",
      "metadata": {
        "id": "VZgY3yUj5aJr",
        "colab_type": "code",
        "colab": {}
      },
      "source": [
        "api = KaggleApi()\n",
        "api.authenticate()"
      ],
      "execution_count": 0,
      "outputs": []
    },
    {
      "cell_type": "markdown",
      "metadata": {
        "id": "HPX0efUO5-ed",
        "colab_type": "text"
      },
      "source": [
        "If all went as suppoused to, we will be able to use the following line"
      ]
    },
    {
      "cell_type": "code",
      "metadata": {
        "id": "Zu7Zz2cD552A",
        "colab_type": "code",
        "colab": {}
      },
      "source": [
        "api.dataset_download_file('the_root_of_the_dataset_we_want_to_use','the_name_of_the_file.csv')"
      ],
      "execution_count": 0,
      "outputs": []
    },
    {
      "cell_type": "markdown",
      "metadata": {
        "id": "8oCqGlRT6mzd",
        "colab_type": "text"
      },
      "source": [
        "Now that we have the dataset downloaded, we can start working with it."
      ]
    }
  ]
}